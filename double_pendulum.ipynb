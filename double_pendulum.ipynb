{
 "cells": [
  {
   "cell_type": "code",
   "outputs": [
    {
     "name": "stdout",
     "output_type": "stream",
     "text": [
      "The autoreload extension is already loaded. To reload it, use:\n",
      "  %reload_ext autoreload\n"
     ]
    }
   ],
   "source": [
    "import numpy as np\n",
    "from matplotlib import pyplot as plt, animation\n",
    "\n",
    "from nonlinear.gauss_seidel import GaussSeidel\n",
    "from nonlinear.jacobi import Jacobi\n",
    "from nonlinear.solve_nonlinear import FSolve\n",
    "from ode.euler_schemes import ImplicitEuler\n",
    "from ode.solve_ivp import solve_ivp_implicit\n",
    "\n",
    "\n",
    "%load_ext autoreload\n",
    "%autoreload 2"
   ],
   "metadata": {
    "collapsed": false,
    "ExecuteTime": {
     "end_time": "2024-02-15T00:44:18.555076700Z",
     "start_time": "2024-02-15T00:44:18.491104200Z"
    }
   },
   "id": "96d32db533875a3d",
   "execution_count": 103
  },
  {
   "cell_type": "code",
   "outputs": [],
   "source": [
    "plt.rcParams.update({\n",
    "    \"text.usetex\": True,\n",
    "    \"animation.html\": \"jshtml\"\n",
    "})"
   ],
   "metadata": {
    "collapsed": false,
    "ExecuteTime": {
     "end_time": "2024-02-15T00:44:18.612183100Z",
     "start_time": "2024-02-15T00:44:18.552065100Z"
    }
   },
   "id": "6f85dc7d6d782a93",
   "execution_count": 104
  },
  {
   "cell_type": "markdown",
   "source": [
    "## Problem definition"
   ],
   "metadata": {
    "collapsed": false
   },
   "id": "1c6dbae88260e6e3"
  },
  {
   "cell_type": "code",
   "outputs": [],
   "source": [
    "g = 9.81\n",
    "m1 = 1\n",
    "m2 = 1\n",
    "l1 = 1\n",
    "l2 = 1"
   ],
   "metadata": {
    "collapsed": false,
    "ExecuteTime": {
     "end_time": "2024-02-15T00:44:18.670400800Z",
     "start_time": "2024-02-15T00:44:18.613182900Z"
    }
   },
   "id": "3d9488b8238b0c64",
   "execution_count": 105
  },
  {
   "cell_type": "code",
   "outputs": [],
   "source": [
    "def f(_: float, y: np.ndarray) -> np.array:\n",
    "    y1,y2,y3,y4 = y\n",
    "    return np.array([\n",
    "        y3,\n",
    "        y4,\n",
    "        (-g*(2*m1 + m2)*np.sin(y1) - m2*g*np.sin(y1 - 2*y2) - 2*np.sin(y1 - y2)*m2*(y4*y4*l2 + y3*y3*l1*np.cos(y1 - y2)))\n",
    "            / (l1*(2*m1 + m2 - m2*np.cos(2*y1 - 2*y2))),\n",
    "        (2*np.sin(y1 - y2)*(y3*y3*l1*(m1 + m2) + g*(m1 + m2)*np.cos(y1) + y4*y4*l2*m2*np.cos(y1 - y2)))\n",
    "            / (l2*(2*m1 + m2 - m2*np.cos(2*y1 - 2*y2)))\n",
    "    ])"
   ],
   "metadata": {
    "collapsed": false,
    "ExecuteTime": {
     "end_time": "2024-02-15T00:44:18.732865900Z",
     "start_time": "2024-02-15T00:44:18.674401100Z"
    }
   },
   "id": "dd1e00454655ea85",
   "execution_count": 106
  },
  {
   "cell_type": "markdown",
   "source": [
    "## Simulation parameters"
   ],
   "metadata": {
    "collapsed": false
   },
   "id": "349706e818a9a9c5"
  },
  {
   "cell_type": "code",
   "outputs": [],
   "source": [
    "kmax = 3                            # Amount of iterations\n",
    "n = 200                             # Time steps\n",
    "T = 4*np.pi*np.sqrt((l1+l2)/g)      # Time interval\n",
    "t = np.linspace(0, T, n)\n",
    "scheme = 'gauss_seidel'"
   ],
   "metadata": {
    "collapsed": true,
    "ExecuteTime": {
     "end_time": "2024-02-15T00:44:18.792428500Z",
     "start_time": "2024-02-15T00:44:18.732865900Z"
    }
   },
   "id": "initial_id",
   "execution_count": 107
  },
  {
   "cell_type": "markdown",
   "source": [
    "## Solution\n",
    "### Solve dynamic iteration"
   ],
   "metadata": {
    "collapsed": false
   },
   "id": "efcaeac767310eb0"
  },
  {
   "cell_type": "code",
   "outputs": [],
   "source": [
    "if scheme == 'jacobi':\n",
    "    solver = Jacobi(kmax)\n",
    "elif scheme == 'gauss_seidel':\n",
    "    solver = GaussSeidel(kmax)\n",
    "elif scheme == 'fsolve':\n",
    "    solver = FSolve()\n",
    "else:\n",
    "    raise ValueError(f\"Value of option <scheme> was {scheme} but is not allowed!\")"
   ],
   "metadata": {
    "collapsed": false,
    "ExecuteTime": {
     "end_time": "2024-02-15T00:44:18.852064900Z",
     "start_time": "2024-02-15T00:44:18.794428100Z"
    }
   },
   "id": "3769ccfbe020225e",
   "execution_count": 108
  },
  {
   "cell_type": "code",
   "outputs": [],
   "source": [
    "y0 = np.array([np.pi/6,0,0,0])\n",
    "res = solve_ivp_implicit(t, y0, ImplicitEuler(f), solver)"
   ],
   "metadata": {
    "collapsed": false,
    "ExecuteTime": {
     "end_time": "2024-02-15T00:44:19.121974800Z",
     "start_time": "2024-02-15T00:44:18.854065700Z"
    }
   },
   "id": "5c850217fd5d9fc9",
   "execution_count": 109
  },
  {
   "cell_type": "code",
   "outputs": [],
   "source": [
    "theta1 = res[:,0]\n",
    "theta2 = res[:,1]\n",
    "\n",
    "x1 = l1*np.sin(theta1)\n",
    "y1 = -l1*np.cos(theta1)\n",
    "\n",
    "x2 = l2*np.sin(theta2) + x1\n",
    "y2 = -l2*np.cos(theta2) + y1"
   ],
   "metadata": {
    "collapsed": false,
    "ExecuteTime": {
     "end_time": "2024-02-15T00:44:19.179928300Z",
     "start_time": "2024-02-15T00:44:19.121974800Z"
    }
   },
   "id": "f00b9b8411b5bcdc",
   "execution_count": 110
  },
  {
   "cell_type": "markdown",
   "source": [
    "### Animate pendulum"
   ],
   "metadata": {
    "collapsed": false
   },
   "id": "fdff41c2a4406d4"
  },
  {
   "cell_type": "code",
   "outputs": [],
   "source": [
    "%%capture\n",
    "\n",
    "l = l1 + l2\n",
    "fig = plt.figure(figsize=(5,4))\n",
    "ax = fig.add_subplot(autoscale_on=False, xlim=(-l, l), ylim=(-1.5*l, 0.5*l))\n",
    "ax.set_aspect('equal')\n",
    "ax.grid()\n",
    "\n",
    "line, = ax.plot([], [], 'o-', lw=2)\n",
    "trace, = ax.plot([], [], '.-', lw=1, ms=2)\n",
    "time_template = 'time = %.1fs'\n",
    "time_text = ax.text(0.05, 0.9, '', transform=ax.transAxes)"
   ],
   "metadata": {
    "collapsed": false,
    "ExecuteTime": {
     "end_time": "2024-02-15T00:44:19.417238Z",
     "start_time": "2024-02-15T00:44:19.180930400Z"
    }
   },
   "id": "47dfb902db78ff1a",
   "execution_count": 111
  },
  {
   "cell_type": "code",
   "outputs": [],
   "source": [
    "def animate(i):\n",
    "    xi = [0, x1[i], x2[i]]\n",
    "    yi = [0, y1[i], y2[i]]\n",
    "\n",
    "    history_x = x2[:i]\n",
    "    history_y = y2[:i]\n",
    "\n",
    "    line.set_data(xi, yi)\n",
    "    trace.set_data(history_x, history_y)\n",
    "    time_text.set_text(time_template % t[i])\n",
    "    return line, trace, time_text"
   ],
   "metadata": {
    "collapsed": false,
    "ExecuteTime": {
     "end_time": "2024-02-15T00:44:19.479478300Z",
     "start_time": "2024-02-15T00:44:19.420240300Z"
    }
   },
   "id": "e333416b778d805d",
   "execution_count": 112
  },
  {
   "cell_type": "code",
   "outputs": [],
   "source": [
    "animation.FuncAnimation(fig, animate, frames=theta1.size, interval=30)"
   ],
   "metadata": {
    "collapsed": false,
    "is_executing": true,
    "ExecuteTime": {
     "start_time": "2024-02-15T00:44:19.479478300Z"
    }
   },
   "id": "95297e396186489a",
   "execution_count": null
  }
 ],
 "metadata": {
  "kernelspec": {
   "display_name": "Python 3",
   "language": "python",
   "name": "python3"
  },
  "language_info": {
   "codemirror_mode": {
    "name": "ipython",
    "version": 2
   },
   "file_extension": ".py",
   "mimetype": "text/x-python",
   "name": "python",
   "nbconvert_exporter": "python",
   "pygments_lexer": "ipython2",
   "version": "2.7.6"
  }
 },
 "nbformat": 4,
 "nbformat_minor": 5
}
