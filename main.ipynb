{
 "cells": [
  {
   "cell_type": "code",
   "execution_count": 7,
   "id": "initial_id",
   "metadata": {
    "collapsed": true,
    "ExecuteTime": {
     "end_time": "2023-11-21T20:00:52.288900100Z",
     "start_time": "2023-11-21T20:00:52.232230300Z"
    }
   },
   "outputs": [
    {
     "name": "stdout",
     "output_type": "stream",
     "text": [
      "The autoreload extension is already loaded. To reload it, use:\n",
      "  %reload_ext autoreload\n"
     ]
    }
   ],
   "source": [
    "from matplotlib import pyplot as plt\n",
    "\n",
    "from fit.matrices.create_top_mats import create_px\n",
    "import numpy as np\n",
    "\n",
    "from fit.mesh.mesh import Mesh\n",
    "\n",
    "%load_ext autoreload\n",
    "%autoreload 2"
   ]
  },
  {
   "cell_type": "code",
   "execution_count": 8,
   "outputs": [],
   "source": [
    "xmesh = np.linspace(0, 10, 10)\n",
    "ymesh = np.linspace(0, 10, 10)\n",
    "zmesh = np.linspace(0, 10, 10)\n",
    "msh = Mesh(xmesh, ymesh, zmesh)"
   ],
   "metadata": {
    "collapsed": false,
    "ExecuteTime": {
     "end_time": "2023-11-21T20:00:52.342801500Z",
     "start_time": "2023-11-21T20:00:52.288900100Z"
    }
   },
   "id": "577493f851721f8e"
  },
  {
   "cell_type": "code",
   "execution_count": 11,
   "outputs": [
    {
     "name": "stdout",
     "output_type": "stream",
     "text": [
      "(1999,)\n",
      "(1999,)\n",
      "(1999, 1)\n",
      "Unexpected exception formatting exception. Falling back to standard exception\n"
     ]
    },
    {
     "name": "stderr",
     "output_type": "stream",
     "text": [
      "Traceback (most recent call last):\n",
      "  File \"C:\\Users\\devin\\anaconda3\\envs\\multiphysics\\Lib\\site-packages\\IPython\\core\\interactiveshell.py\", line 3526, in run_code\n",
      "    exec(code_obj, self.user_global_ns, self.user_ns)\n",
      "    \n",
      "  File \"C:\\Users\\devin\\AppData\\Local\\Temp\\ipykernel_9552\\2702872323.py\", line 1, in <module>\n",
      "    px = create_px(msh.np)\n",
      "    \n",
      "  File \"C:\\Users\\devin\\Repos\\Uni\\multiphysics\\fit\\matrices\\create_top_mats.py\", line 21, in create_px\n",
      "    return csr_array((vals, (rows, cols)), shape=(n, n))\n",
      "    \n",
      "  File \"C:\\Users\\devin\\anaconda3\\envs\\multiphysics\\Lib\\site-packages\\scipy\\sparse\\_compressed.py\", line 52, in __init__\n",
      "    self._coo_container(arg1, shape=shape, dtype=dtype)\n",
      "    \n",
      "  File \"C:\\Users\\devin\\anaconda3\\envs\\multiphysics\\Lib\\site-packages\\scipy\\sparse\\_coo.py\", line 204, in __init__\n",
      "    self._check()\n",
      "    \n",
      "  File \"C:\\Users\\devin\\anaconda3\\envs\\multiphysics\\Lib\\site-packages\\scipy\\sparse\\_coo.py\", line 289, in _check\n",
      "    if self.nnz > 0:\n",
      "    \n",
      "  File \"C:\\Users\\devin\\anaconda3\\envs\\multiphysics\\Lib\\site-packages\\scipy\\sparse\\_base.py\", line 294, in nnz\n",
      "    return self._getnnz()\n",
      "    \n",
      "  File \"C:\\Users\\devin\\anaconda3\\envs\\multiphysics\\Lib\\site-packages\\scipy\\sparse\\_coo.py\", line 256, in _getnnz\n",
      "    raise ValueError('row, column, and data arrays must be 1-D')\n",
      "    \n",
      "ValueError: row, column, and data arrays must be 1-D\n",
      "\n",
      "During handling of the above exception, another exception occurred:\n",
      "\n",
      "Traceback (most recent call last):\n",
      "  File \"C:\\Users\\devin\\anaconda3\\envs\\multiphysics\\Lib\\site-packages\\IPython\\core\\interactiveshell.py\", line 2120, in showtraceback\n",
      "    stb = self.InteractiveTB.structured_traceback(\n",
      "  File \"C:\\Users\\devin\\anaconda3\\envs\\multiphysics\\Lib\\site-packages\\IPython\\core\\ultratb.py\", line 1435, in structured_traceback\n",
      "    return FormattedTB.structured_traceback(\n",
      "  File \"C:\\Users\\devin\\anaconda3\\envs\\multiphysics\\Lib\\site-packages\\IPython\\core\\ultratb.py\", line 1326, in structured_traceback\n",
      "    return VerboseTB.structured_traceback(\n",
      "  File \"C:\\Users\\devin\\anaconda3\\envs\\multiphysics\\Lib\\site-packages\\IPython\\core\\ultratb.py\", line 1173, in structured_traceback\n",
      "    formatted_exception = self.format_exception_as_a_whole(etype, evalue, etb, number_of_lines_of_context,\n",
      "  File \"C:\\Users\\devin\\anaconda3\\envs\\multiphysics\\Lib\\site-packages\\IPython\\core\\ultratb.py\", line 1088, in format_exception_as_a_whole\n",
      "    frames.append(self.format_record(record))\n",
      "    \n",
      "  File \"C:\\Users\\devin\\anaconda3\\envs\\multiphysics\\Lib\\site-packages\\IPython\\core\\ultratb.py\", line 970, in format_record\n",
      "    frame_info.lines, Colors, self.has_colors, lvals\n",
      "    \n",
      "  File \"C:\\Users\\devin\\anaconda3\\envs\\multiphysics\\Lib\\site-packages\\IPython\\core\\ultratb.py\", line 792, in lines\n",
      "    return self._sd.lines\n",
      "    \n",
      "  File \"C:\\Users\\devin\\anaconda3\\envs\\multiphysics\\Lib\\site-packages\\stack_data\\utils.py\", line 145, in cached_property_wrapper\n",
      "    value = obj.__dict__[self.func.__name__] = self.func(obj)\n",
      "    \n",
      "  File \"C:\\Users\\devin\\anaconda3\\envs\\multiphysics\\Lib\\site-packages\\stack_data\\core.py\", line 698, in lines\n",
      "    pieces = self.included_pieces\n",
      "    \n",
      "  File \"C:\\Users\\devin\\anaconda3\\envs\\multiphysics\\Lib\\site-packages\\stack_data\\utils.py\", line 145, in cached_property_wrapper\n",
      "    value = obj.__dict__[self.func.__name__] = self.func(obj)\n",
      "    \n",
      "  File \"C:\\Users\\devin\\anaconda3\\envs\\multiphysics\\Lib\\site-packages\\stack_data\\core.py\", line 649, in included_pieces\n",
      "    pos = scope_pieces.index(self.executing_piece)\n",
      "    \n",
      "  File \"C:\\Users\\devin\\anaconda3\\envs\\multiphysics\\Lib\\site-packages\\stack_data\\utils.py\", line 145, in cached_property_wrapper\n",
      "    value = obj.__dict__[self.func.__name__] = self.func(obj)\n",
      "    \n",
      "  File \"C:\\Users\\devin\\anaconda3\\envs\\multiphysics\\Lib\\site-packages\\stack_data\\core.py\", line 628, in executing_piece\n",
      "    return only(\n",
      "  File \"C:\\Users\\devin\\anaconda3\\envs\\multiphysics\\Lib\\site-packages\\executing\\executing.py\", line 164, in only\n",
      "    raise NotOneValueFound('Expected one value, found 0')\n",
      "    \n",
      "executing.executing.NotOneValueFound: Expected one value, found 0\n"
     ]
    }
   ],
   "source": [
    "px = create_px(msh.np)\n",
    "plt.spy(px)"
   ],
   "metadata": {
    "collapsed": false,
    "ExecuteTime": {
     "end_time": "2023-11-21T20:02:38.489429800Z",
     "start_time": "2023-11-21T20:02:38.411527300Z"
    }
   },
   "id": "4d69a4aa9cd9644e"
  },
  {
   "cell_type": "code",
   "execution_count": null,
   "outputs": [],
   "source": [],
   "metadata": {
    "collapsed": false,
    "ExecuteTime": {
     "end_time": "2023-11-21T20:00:52.455932800Z",
     "start_time": "2023-11-21T20:00:52.454116700Z"
    }
   },
   "id": "f3b834c24f4704ba"
  },
  {
   "cell_type": "code",
   "execution_count": null,
   "outputs": [],
   "source": [],
   "metadata": {
    "collapsed": false,
    "ExecuteTime": {
     "start_time": "2023-11-21T20:00:52.455118Z"
    }
   },
   "id": "99e8292243e325c2"
  }
 ],
 "metadata": {
  "kernelspec": {
   "display_name": "Python 3",
   "language": "python",
   "name": "python3"
  },
  "language_info": {
   "codemirror_mode": {
    "name": "ipython",
    "version": 2
   },
   "file_extension": ".py",
   "mimetype": "text/x-python",
   "name": "python",
   "nbconvert_exporter": "python",
   "pygments_lexer": "ipython2",
   "version": "2.7.6"
  }
 },
 "nbformat": 4,
 "nbformat_minor": 5
}
