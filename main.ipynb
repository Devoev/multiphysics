{
 "cells": [
  {
   "cell_type": "code",
   "execution_count": 33,
   "id": "initial_id",
   "metadata": {
    "collapsed": true,
    "ExecuteTime": {
     "end_time": "2023-11-22T23:22:04.248090Z",
     "start_time": "2023-11-22T23:22:04.194700600Z"
    }
   },
   "outputs": [
    {
     "name": "stdout",
     "output_type": "stream",
     "text": [
      "The autoreload extension is already loaded. To reload it, use:\n",
      "  %reload_ext autoreload\n"
     ]
    }
   ],
   "source": [
    "from matplotlib import pyplot as plt\n",
    "\n",
    "import numpy as np\n",
    "\n",
    "from fit.mesh.mesh import Mesh\n",
    "from fit.solver.solve_poisson import solve_poisson\n",
    "\n",
    "%load_ext autoreload\n",
    "%autoreload 2"
   ]
  },
  {
   "cell_type": "code",
   "execution_count": 34,
   "outputs": [],
   "source": [
    "## Generate mesh\n",
    "n = 50\n",
    "xmesh = np.linspace(0, 1, n)\n",
    "ymesh = np.linspace(0, 1, n)\n",
    "zmesh = np.linspace(0, 1, 2)\n",
    "msh = Mesh(xmesh, ymesh, zmesh)"
   ],
   "metadata": {
    "collapsed": false,
    "ExecuteTime": {
     "end_time": "2023-11-22T23:22:04.300280600Z",
     "start_time": "2023-11-22T23:22:04.248090Z"
    }
   },
   "id": "577493f851721f8e"
  },
  {
   "cell_type": "code",
   "execution_count": 35,
   "outputs": [],
   "source": [
    "## Set boundary conditions\n",
    "bc = np.full(msh.np, np.nan)\n",
    "idx_bc_1 = msh.idx(0, np.arange(n), 0)\n",
    "idx_bc_2 = msh.idx(9, np.arange(n), 0)\n",
    "bc[idx_bc_1] = 0\n",
    "bc[idx_bc_2] = 1"
   ],
   "metadata": {
    "collapsed": false,
    "ExecuteTime": {
     "end_time": "2023-11-22T23:22:04.354367200Z",
     "start_time": "2023-11-22T23:22:04.301282400Z"
    }
   },
   "id": "7d7c3c49b50fd2a0"
  },
  {
   "cell_type": "code",
   "execution_count": 36,
   "outputs": [],
   "source": [
    "## Solve system\n",
    "eps = 8.854e-12\n",
    "phi = solve_poisson(msh, np.zeros(msh.np), eps, bc)"
   ],
   "metadata": {
    "collapsed": false,
    "ExecuteTime": {
     "end_time": "2023-11-22T23:22:04.424854Z",
     "start_time": "2023-11-22T23:22:04.353365700Z"
    }
   },
   "id": "4d69a4aa9cd9644e"
  },
  {
   "cell_type": "code",
   "execution_count": 40,
   "outputs": [
    {
     "data": {
      "text/plain": "<Figure size 640x480 with 1 Axes>",
      "image/png": "[encoded data removed]"
     },
     "metadata": {},
     "output_type": "display_data"
    }
   ],
   "source": [
    "## Plot solution\n",
    "phi_plot = np.reshape(phi, (msh.nz, msh.ny, msh.nx))\n",
    "plt.imshow(phi_plot[0,:,:], cmap='hot')\n",
    "plt.xlim([0, n])\n",
    "plt.ylim([0, n])\n",
    "plt.show()"
   ],
   "metadata": {
    "collapsed": false,
    "ExecuteTime": {
     "end_time": "2023-11-22T23:22:40.640322500Z",
     "start_time": "2023-11-22T23:22:40.527305900Z"
    }
   },
   "id": "119cc92d53fcd77a"
  },
  {
   "cell_type": "code",
   "execution_count": 37,
   "outputs": [],
   "source": [],
   "metadata": {
    "collapsed": false,
    "ExecuteTime": {
     "end_time": "2023-11-22T23:22:04.544062Z",
     "start_time": "2023-11-22T23:22:04.542052700Z"
    }
   },
   "id": "c225d53d0bd57334"
  }
 ],
 "metadata": {
  "kernelspec": {
   "display_name": "Python 3",
   "language": "python",
   "name": "python3"
  },
  "language_info": {
   "codemirror_mode": {
    "name": "ipython",
    "version": 2
   },
   "file_extension": ".py",
   "mimetype": "text/x-python",
   "name": "python",
   "nbconvert_exporter": "python",
   "pygments_lexer": "ipython2",
   "version": "2.7.6"
  }
 },
 "nbformat": 4,
 "nbformat_minor": 5
}
