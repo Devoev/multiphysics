{
 "cells": [
  {
   "cell_type": "code",
   "execution_count": 1,
   "id": "initial_id",
   "metadata": {
    "collapsed": true,
    "ExecuteTime": {
     "end_time": "2023-11-22T20:34:39.986978Z",
     "start_time": "2023-11-22T20:34:39.429200Z"
    }
   },
   "outputs": [],
   "source": [
    "from matplotlib import pyplot as plt\n",
    "\n",
    "import numpy as np\n",
    "\n",
    "from fit.mesh.mesh import Mesh\n",
    "from fit.solver.solve_poisson import solve_poisson\n",
    "\n",
    "%load_ext autoreload\n",
    "%autoreload 2"
   ]
  },
  {
   "cell_type": "code",
   "execution_count": 2,
   "outputs": [],
   "source": [
    "## Generate mesh\n",
    "xmesh = np.linspace(0, 10, 10)\n",
    "ymesh = np.linspace(0, 10, 10)\n",
    "zmesh = np.linspace(0, 10, 2)\n",
    "msh = Mesh(xmesh, ymesh, zmesh)"
   ],
   "metadata": {
    "collapsed": false,
    "ExecuteTime": {
     "end_time": "2023-11-22T20:34:40.041873300Z",
     "start_time": "2023-11-22T20:34:39.987979400Z"
    }
   },
   "id": "577493f851721f8e"
  },
  {
   "cell_type": "code",
   "execution_count": 3,
   "outputs": [
    {
     "name": "stdout",
     "output_type": "stream",
     "text": [
      "[0, 10, 20, 30, 40, 50, 60, 70, 80, 90]\n",
      "[9, 19, 29, 39, 49, 59, 69, 79, 89, 99]\n",
      "[ 0. nan nan nan nan nan nan nan nan  1.  0. nan nan nan nan nan nan nan\n",
      " nan  1.  0. nan nan nan nan nan nan nan nan  1.  0. nan nan nan nan nan\n",
      " nan nan nan  1.  0. nan nan nan nan nan nan nan nan  1.  0. nan nan nan\n",
      " nan nan nan nan nan  1.  0. nan nan nan nan nan nan nan nan  1.  0. nan\n",
      " nan nan nan nan nan nan nan  1.  0. nan nan nan nan nan nan nan nan  1.\n",
      "  0. nan nan nan nan nan nan nan nan  1. nan nan nan nan nan nan nan nan\n",
      " nan nan nan nan nan nan nan nan nan nan nan nan nan nan nan nan nan nan\n",
      " nan nan nan nan nan nan nan nan nan nan nan nan nan nan nan nan nan nan\n",
      " nan nan nan nan nan nan nan nan nan nan nan nan nan nan nan nan nan nan\n",
      " nan nan nan nan nan nan nan nan nan nan nan nan nan nan nan nan nan nan\n",
      " nan nan nan nan nan nan nan nan nan nan nan nan nan nan nan nan nan nan\n",
      " nan nan]\n"
     ]
    }
   ],
   "source": [
    "## Set boundary conditions\n",
    "bc = np.full(msh.np, np.nan)\n",
    "idx_bc_1 = [msh.idx(0, j, 0) for j in range(10)]\n",
    "idx_bc_2 = [msh.idx(9, j, 0) for j in range(10)]\n",
    "bc[idx_bc_1] = 0\n",
    "bc[idx_bc_2] = 1\n",
    "print(idx_bc_1)\n",
    "print(idx_bc_2)\n",
    "print(bc)"
   ],
   "metadata": {
    "collapsed": false,
    "ExecuteTime": {
     "end_time": "2023-11-22T20:34:40.097622300Z",
     "start_time": "2023-11-22T20:34:40.042873700Z"
    }
   },
   "id": "7d7c3c49b50fd2a0"
  },
  {
   "cell_type": "code",
   "execution_count": 4,
   "outputs": [
    {
     "name": "stdout",
     "output_type": "stream",
     "text": [
      "[ 0. nan nan nan nan nan nan nan nan  1.  0. nan nan nan nan nan nan nan\n",
      " nan  1.  0. nan nan nan nan nan nan nan nan  1.  0. nan nan nan nan nan\n",
      " nan nan nan  1.  0. nan nan nan nan nan nan nan nan  1.  0. nan nan nan\n",
      " nan nan nan nan nan  1.  0. nan nan nan nan nan nan nan nan  1.  0. nan\n",
      " nan nan nan nan nan nan nan  1.  0. nan nan nan nan nan nan nan nan  1.\n",
      "  0. nan nan nan nan nan nan nan nan  1. nan nan nan nan nan nan nan nan\n",
      " nan nan nan nan nan nan nan nan nan nan nan nan nan nan nan nan nan nan\n",
      " nan nan nan nan nan nan nan nan nan nan nan nan nan nan nan nan nan nan\n",
      " nan nan nan nan nan nan nan nan nan nan nan nan nan nan nan nan nan nan\n",
      " nan nan nan nan nan nan nan nan nan nan nan nan nan nan nan nan nan nan\n",
      " nan nan nan nan nan nan nan nan nan nan nan nan nan nan nan nan nan nan\n",
      " nan nan]\n"
     ]
    },
    {
     "name": "stderr",
     "output_type": "stream",
     "text": [
      "C:\\Users\\devin\\anaconda3\\envs\\multiphysics\\Lib\\site-packages\\scipy\\sparse\\linalg\\_dsolve\\linsolve.py:293: MatrixRankWarning: Matrix is exactly singular\n",
      "  warn(\"Matrix is exactly singular\", MatrixRankWarning)\n"
     ]
    }
   ],
   "source": [
    "## Solve system\n",
    "eps = 8.854e-12\n",
    "phi = solve_poisson(msh, np.zeros(msh.np), eps, bc)\n",
    "print(phi)"
   ],
   "metadata": {
    "collapsed": false,
    "ExecuteTime": {
     "end_time": "2023-11-22T20:34:40.159419200Z",
     "start_time": "2023-11-22T20:34:40.099124800Z"
    }
   },
   "id": "4d69a4aa9cd9644e"
  },
  {
   "cell_type": "code",
   "execution_count": 13,
   "outputs": [
    {
     "data": {
      "text/plain": "<Figure size 640x480 with 1 Axes>",
      "image/png": "[encoded data removed]"
     },
     "metadata": {},
     "output_type": "display_data"
    }
   ],
   "source": [
    "## Plot solution\n",
    "phi_plot = np.reshape(phi, (msh.nz, msh.ny, msh.nx))\n",
    "plt.imshow(phi_plot[0,:,:], cmap='hot')\n",
    "plt.xlim([0, 10])\n",
    "plt.ylim([0, 10])\n",
    "plt.show()"
   ],
   "metadata": {
    "collapsed": false,
    "ExecuteTime": {
     "end_time": "2023-11-22T20:39:53.948631100Z",
     "start_time": "2023-11-22T20:39:53.833785100Z"
    }
   },
   "id": "119cc92d53fcd77a"
  },
  {
   "cell_type": "code",
   "execution_count": null,
   "outputs": [],
   "source": [],
   "metadata": {
    "collapsed": false,
    "ExecuteTime": {
     "end_time": "2023-11-22T20:34:42.039597500Z",
     "start_time": "2023-11-22T20:34:42.039597500Z"
    }
   },
   "id": "c225d53d0bd57334"
  }
 ],
 "metadata": {
  "kernelspec": {
   "display_name": "Python 3",
   "language": "python",
   "name": "python3"
  },
  "language_info": {
   "codemirror_mode": {
    "name": "ipython",
    "version": 2
   },
   "file_extension": ".py",
   "mimetype": "text/x-python",
   "name": "python",
   "nbconvert_exporter": "python",
   "pygments_lexer": "ipython2",
   "version": "2.7.6"
  }
 },
 "nbformat": 4,
 "nbformat_minor": 5
}
