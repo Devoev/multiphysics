{
 "cells": [
  {
   "cell_type": "code",
   "execution_count": 82,
   "id": "initial_id",
   "metadata": {
    "collapsed": true,
    "ExecuteTime": {
     "end_time": "2023-11-22T21:18:49.029017Z",
     "start_time": "2023-11-22T21:18:48.976340100Z"
    }
   },
   "outputs": [
    {
     "name": "stdout",
     "output_type": "stream",
     "text": [
      "The autoreload extension is already loaded. To reload it, use:\n",
      "  %reload_ext autoreload\n"
     ]
    }
   ],
   "source": [
    "from matplotlib import pyplot as plt\n",
    "\n",
    "import numpy as np\n",
    "\n",
    "from fit.mesh.mesh import Mesh\n",
    "from fit.solver.solve_poisson import solve_poisson\n",
    "\n",
    "%load_ext autoreload\n",
    "%autoreload 2"
   ]
  },
  {
   "cell_type": "code",
   "execution_count": 83,
   "outputs": [],
   "source": [
    "## Generate mesh\n",
    "xmesh = np.linspace(0, 10, 10)\n",
    "ymesh = np.linspace(0, 10, 10)\n",
    "zmesh = np.linspace(0, 10, 2)\n",
    "msh = Mesh(xmesh, ymesh, zmesh)"
   ],
   "metadata": {
    "collapsed": false,
    "ExecuteTime": {
     "end_time": "2023-11-22T21:18:49.079390Z",
     "start_time": "2023-11-22T21:18:49.029017Z"
    }
   },
   "id": "577493f851721f8e"
  },
  {
   "cell_type": "code",
   "execution_count": 96,
   "outputs": [],
   "source": [
    "## Set boundary conditions  TODO: Fix bc\n",
    "bc = np.full(msh.np, np.nan)\n",
    "idx_bc_1 = [msh.idx(0, j, 0) for j in range(10)]\n",
    "idx_bc_2 = [msh.idx(9, j, 0) for j in range(10)]\n",
    "idx_bc_3 = [msh.idx(0, j, 1) for j in range(10)]\n",
    "idx_bc_4 = [msh.idx(9, j, 1) for j in range(10)]\n",
    "bc[idx_bc_1] = 0\n",
    "bc[idx_bc_2] = 1\n",
    "bc[idx_bc_3] = 1\n",
    "bc[idx_bc_4] = 1"
   ],
   "metadata": {
    "collapsed": false,
    "ExecuteTime": {
     "end_time": "2023-11-22T21:19:59.789080800Z",
     "start_time": "2023-11-22T21:19:59.740042700Z"
    }
   },
   "id": "7d7c3c49b50fd2a0"
  },
  {
   "cell_type": "code",
   "execution_count": 97,
   "outputs": [
    {
     "name": "stdout",
     "output_type": "stream",
     "text": [
      "(160, 160)\n",
      "160\n",
      "[0.         0.         0.08832667 0.         0.09429115 0.\n",
      " 0.11827473 0.         0.1362421  1.         0.         0.\n",
      " 0.08852565 0.         0.0940687  0.         0.118349   0.\n",
      " 0.13814593 1.         0.         0.         0.08892942 0.\n",
      " 0.09361491 0.         0.11847863 0.         0.14199966 1.\n",
      " 0.         0.         0.08954982 0.         0.09291202 0.\n",
      " 0.11862483 0.         0.14789686 1.         0.         0.\n",
      " 0.0904051  0.         0.09193319 0.         0.11872709 0.\n",
      " 0.15598132 1.         0.         0.         0.09152054 0.\n",
      " 0.09064244 0.         0.11870021 0.         0.16645142 1.\n",
      " 0.         0.         0.0929293  0.         0.08899445 0.\n",
      " 0.1184302  0.         0.17956598 1.         0.         0.\n",
      " 0.09467345 0.         0.08693448 0.         0.11776883 0.\n",
      " 0.19565218 1.         0.         0.         0.09680534 0.\n",
      " 0.0843983  0.         0.11652661 0.         0.21511536 1.\n",
      " 0.         0.         0.0993892  0.         0.0813123  0.\n",
      " 0.11446389 0.         0.23845143 1.         1.         0.\n",
      " 0.10250298 0.         0.07759384 0.         0.11127974 0.\n",
      " 0.25391637 1.         1.         0.         0.10315422 0.\n",
      " 0.073152   0.         0.10675052 0.         0.26193135 1.\n",
      " 1.         0.         0.10140783 0.         0.06792495 0.\n",
      " 0.10072029 0.         0.26275018 1.         1.         0.\n",
      " 0.09730136 0.         0.06187966 0.         0.09309456 0.\n",
      " 0.25646754 1.         1.         0.         0.0908461  0.\n",
      " 0.0550117  0.         0.08383726 0.         0.24302243 1.\n",
      " 1.         0.         0.08202721 0.         0.04734546 0.\n",
      " 0.07297057 0.         0.22219717 1.         1.         0.\n",
      " 0.07080323 0.         0.03893469 0.         0.06057794 0.\n",
      " 0.19361171 1.         1.         0.         0.05710481 0.\n",
      " 0.02986329 0.         0.04681013 0.         0.15671323 1.\n",
      " 1.         0.         0.04083253 0.         0.02024635 0.\n",
      " 0.0318947  0.         0.11076063 1.         1.         0.\n",
      " 0.021854   0.         0.01023145 0.         0.01614942 0.\n",
      " 0.05480342 1.        ]\n"
     ]
    }
   ],
   "source": [
    "## Solve system\n",
    "eps = 8.854e-12\n",
    "phi = solve_poisson(msh, np.zeros(msh.np), eps, bc)\n",
    "print(phi)"
   ],
   "metadata": {
    "collapsed": false,
    "ExecuteTime": {
     "end_time": "2023-11-22T21:20:00.318790300Z",
     "start_time": "2023-11-22T21:20:00.240615800Z"
    }
   },
   "id": "4d69a4aa9cd9644e"
  },
  {
   "cell_type": "code",
   "execution_count": 99,
   "outputs": [
    {
     "data": {
      "text/plain": "<Figure size 640x480 with 1 Axes>",
      "image/png": "[encoded data removed]"
     },
     "metadata": {},
     "output_type": "display_data"
    }
   ],
   "source": [
    "## Plot solution\n",
    "phi_plot = np.reshape(phi, (msh.nx, msh.ny, msh.nz))  # TODO: Fix plot\n",
    "plt.imshow(phi_plot[:,:,0], cmap='hot')\n",
    "plt.xlim([0, 10])\n",
    "plt.ylim([0, 10])\n",
    "plt.show()"
   ],
   "metadata": {
    "collapsed": false,
    "ExecuteTime": {
     "end_time": "2023-11-22T21:20:17.487338900Z",
     "start_time": "2023-11-22T21:20:17.374405100Z"
    }
   },
   "id": "119cc92d53fcd77a"
  },
  {
   "cell_type": "code",
   "execution_count": 86,
   "outputs": [],
   "source": [],
   "metadata": {
    "collapsed": false,
    "ExecuteTime": {
     "end_time": "2023-11-22T21:18:49.323974600Z",
     "start_time": "2023-11-22T21:18:49.321361400Z"
    }
   },
   "id": "c225d53d0bd57334"
  }
 ],
 "metadata": {
  "kernelspec": {
   "display_name": "Python 3",
   "language": "python",
   "name": "python3"
  },
  "language_info": {
   "codemirror_mode": {
    "name": "ipython",
    "version": 2
   },
   "file_extension": ".py",
   "mimetype": "text/x-python",
   "name": "python",
   "nbconvert_exporter": "python",
   "pygments_lexer": "ipython2",
   "version": "2.7.6"
  }
 },
 "nbformat": 4,
 "nbformat_minor": 5
}
