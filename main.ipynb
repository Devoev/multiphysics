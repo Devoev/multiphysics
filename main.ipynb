{
 "cells": [
  {
   "cell_type": "code",
   "execution_count": 3,
   "id": "initial_id",
   "metadata": {
    "collapsed": true,
    "ExecuteTime": {
     "end_time": "2023-11-21T18:39:38.239159500Z",
     "start_time": "2023-11-21T18:39:38.236843Z"
    }
   },
   "outputs": [
    {
     "name": "stdout",
     "output_type": "stream",
     "text": [
      "Mesh(xmesh=array([ 0.        ,  1.11111111,  2.22222222,  3.33333333,  4.44444444,\n",
      "        5.55555556,  6.66666667,  7.77777778,  8.88888889, 10.        ]), ymesh=array([ 0.        ,  1.11111111,  2.22222222,  3.33333333,  4.44444444,\n",
      "        5.55555556,  6.66666667,  7.77777778,  8.88888889, 10.        ]), zmesh=array([ 0.        ,  1.11111111,  2.22222222,  3.33333333,  4.44444444,\n",
      "        5.55555556,  6.66666667,  7.77777778,  8.88888889, 10.        ]))\n"
     ]
    }
   ],
   "source": [
    "import numpy as np\n",
    "\n",
    "from fit.mesh.mesh import Mesh\n",
    "\n",
    "xmesh = np.linspace(0, 10, 10)\n",
    "ymesh = np.linspace(0, 10, 10)\n",
    "zmesh = np.linspace(0, 10, 10)\n",
    "msh = Mesh(xmesh, ymesh, zmesh)\n",
    "print(msh)"
   ]
  },
  {
   "cell_type": "code",
   "execution_count": null,
   "outputs": [],
   "source": [],
   "metadata": {
    "collapsed": false
   },
   "id": "4d69a4aa9cd9644e"
  }
 ],
 "metadata": {
  "kernelspec": {
   "display_name": "Python 3",
   "language": "python",
   "name": "python3"
  },
  "language_info": {
   "codemirror_mode": {
    "name": "ipython",
    "version": 2
   },
   "file_extension": ".py",
   "mimetype": "text/x-python",
   "name": "python",
   "nbconvert_exporter": "python",
   "pygments_lexer": "ipython2",
   "version": "2.7.6"
  }
 },
 "nbformat": 4,
 "nbformat_minor": 5
}
