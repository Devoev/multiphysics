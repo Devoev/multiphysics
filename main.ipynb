{
 "cells": [
  {
   "cell_type": "code",
   "execution_count": 8,
   "id": "initial_id",
   "metadata": {
    "collapsed": true,
    "ExecuteTime": {
     "end_time": "2023-11-22T15:39:45.792469500Z",
     "start_time": "2023-11-22T15:39:45.738508500Z"
    }
   },
   "outputs": [
    {
     "name": "stdout",
     "output_type": "stream",
     "text": [
      "The autoreload extension is already loaded. To reload it, use:\n",
      "  %reload_ext autoreload\n"
     ]
    }
   ],
   "source": [
    "from matplotlib import pyplot as plt\n",
    "\n",
    "import numpy as np\n",
    "\n",
    "from fit.mesh.mesh import Mesh\n",
    "from fit.solver.solve_poisson import solve_poisson\n",
    "\n",
    "%load_ext autoreload\n",
    "%autoreload 2"
   ]
  },
  {
   "cell_type": "code",
   "execution_count": 9,
   "outputs": [],
   "source": [
    "xmesh = np.linspace(0, 10, 10)\n",
    "ymesh = np.linspace(0, 10, 10)\n",
    "zmesh = np.linspace(0, 10, 1)\n",
    "msh = Mesh(xmesh, ymesh, zmesh)"
   ],
   "metadata": {
    "collapsed": false,
    "ExecuteTime": {
     "end_time": "2023-11-22T15:39:45.843348300Z",
     "start_time": "2023-11-22T15:39:45.792469500Z"
    }
   },
   "id": "577493f851721f8e"
  },
  {
   "cell_type": "code",
   "execution_count": 10,
   "outputs": [],
   "source": [
    "bc = np.full(msh.np, np.nan)\n",
    "idx_bc = [msh.idx(10, j, 1) for j in range(10)]\n",
    "bc[idx_bc] = 10"
   ],
   "metadata": {
    "collapsed": false,
    "ExecuteTime": {
     "end_time": "2023-11-22T15:39:45.896148800Z",
     "start_time": "2023-11-22T15:39:45.843348300Z"
    }
   },
   "id": "7d7c3c49b50fd2a0"
  },
  {
   "cell_type": "code",
   "execution_count": 17,
   "outputs": [
    {
     "ename": "IndexError",
     "evalue": "boolean index did not match indexed array along dimension 0; dimension is 1 but corresponding boolean dimension is 100",
     "output_type": "error",
     "traceback": [
      "\u001B[1;31m---------------------------------------------------------------------------\u001B[0m",
      "\u001B[1;31mIndexError\u001B[0m                                Traceback (most recent call last)",
      "Cell \u001B[1;32mIn[17], line 2\u001B[0m\n\u001B[0;32m      1\u001B[0m eps \u001B[38;5;241m=\u001B[39m \u001B[38;5;241m8.854e-12\u001B[39m\n\u001B[1;32m----> 2\u001B[0m phi \u001B[38;5;241m=\u001B[39m solve_poisson(msh, np\u001B[38;5;241m.\u001B[39mzeros(msh\u001B[38;5;241m.\u001B[39mnp), eps, bc)\n",
      "File \u001B[1;32m~\\Repos\\Uni\\multiphysics\\fit\\solver\\solve_poisson.py:32\u001B[0m, in \u001B[0;36msolve_poisson\u001B[1;34m(msh, f, mat, bc)\u001B[0m\n\u001B[0;32m     29\u001B[0m b = f[idx_dof] - A[idx_dof,:][:,idx_bc] * bc\n\u001B[0;32m     30\u001B[0m A = A[idx_dof, idx_dof]\n\u001B[1;32m---> 32\u001B[0m # Solve system\n\u001B[0;32m     33\u001B[0m x: np.ndarray = spsolve(A, b)\n\u001B[0;32m     34\u001B[0m return x\n",
      "File \u001B[1;32m~\\anaconda3\\envs\\multiphysics\\Lib\\site-packages\\numpy\\matrixlib\\defmatrix.py:194\u001B[0m, in \u001B[0;36mmatrix.__getitem__\u001B[1;34m(self, index)\u001B[0m\n\u001B[0;32m    191\u001B[0m \u001B[38;5;28mself\u001B[39m\u001B[38;5;241m.\u001B[39m_getitem \u001B[38;5;241m=\u001B[39m \u001B[38;5;28;01mTrue\u001B[39;00m\n\u001B[0;32m    193\u001B[0m \u001B[38;5;28;01mtry\u001B[39;00m:\n\u001B[1;32m--> 194\u001B[0m     out \u001B[38;5;241m=\u001B[39m N\u001B[38;5;241m.\u001B[39mndarray\u001B[38;5;241m.\u001B[39m\u001B[38;5;21m__getitem__\u001B[39m(\u001B[38;5;28mself\u001B[39m, index)\n\u001B[0;32m    195\u001B[0m \u001B[38;5;28;01mfinally\u001B[39;00m:\n\u001B[0;32m    196\u001B[0m     \u001B[38;5;28mself\u001B[39m\u001B[38;5;241m.\u001B[39m_getitem \u001B[38;5;241m=\u001B[39m \u001B[38;5;28;01mFalse\u001B[39;00m\n",
      "\u001B[1;31mIndexError\u001B[0m: boolean index did not match indexed array along dimension 0; dimension is 1 but corresponding boolean dimension is 100"
     ]
    }
   ],
   "source": [
    "eps = 8.854e-12\n",
    "phi = solve_poisson(msh, np.zeros(msh.np), eps, bc)"
   ],
   "metadata": {
    "collapsed": false,
    "ExecuteTime": {
     "end_time": "2023-11-22T15:43:05.106821900Z",
     "start_time": "2023-11-22T15:43:05.039472600Z"
    }
   },
   "id": "4d69a4aa9cd9644e"
  },
  {
   "cell_type": "code",
   "execution_count": null,
   "outputs": [],
   "source": [],
   "metadata": {
    "collapsed": false
   },
   "id": "119cc92d53fcd77a"
  }
 ],
 "metadata": {
  "kernelspec": {
   "display_name": "Python 3",
   "language": "python",
   "name": "python3"
  },
  "language_info": {
   "codemirror_mode": {
    "name": "ipython",
    "version": 2
   },
   "file_extension": ".py",
   "mimetype": "text/x-python",
   "name": "python",
   "nbconvert_exporter": "python",
   "pygments_lexer": "ipython2",
   "version": "2.7.6"
  }
 },
 "nbformat": 4,
 "nbformat_minor": 5
}
