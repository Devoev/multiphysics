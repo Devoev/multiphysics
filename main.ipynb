{
 "cells": [
  {
   "cell_type": "code",
   "execution_count": 1,
   "id": "initial_id",
   "metadata": {
    "collapsed": true,
    "ExecuteTime": {
     "end_time": "2023-11-21T18:46:29.298319400Z",
     "start_time": "2023-11-21T18:46:29.250295600Z"
    }
   },
   "outputs": [],
   "source": [
    "%load_ext autoreload\n",
    "%autoreload 2"
   ]
  },
  {
   "cell_type": "code",
   "execution_count": 2,
   "outputs": [],
   "source": [
    "import numpy as np\n",
    "\n",
    "from fit.mesh.mesh import Mesh"
   ],
   "metadata": {
    "collapsed": false,
    "ExecuteTime": {
     "end_time": "2023-11-21T18:46:29.423239900Z",
     "start_time": "2023-11-21T18:46:29.299319500Z"
    }
   },
   "id": "195fb5d6573f96ca"
  },
  {
   "cell_type": "code",
   "execution_count": 3,
   "outputs": [
    {
     "name": "stdout",
     "output_type": "stream",
     "text": [
      "100\n",
      "Mesh(xmesh=array([ 0.        ,  1.11111111,  2.22222222,  3.33333333,  4.44444444,\n",
      "        5.55555556,  6.66666667,  7.77777778,  8.88888889, 10.        ]), ymesh=array([ 0.        ,  1.11111111,  2.22222222,  3.33333333,  4.44444444,\n",
      "        5.55555556,  6.66666667,  7.77777778,  8.88888889, 10.        ]), zmesh=array([ 0.        ,  1.11111111,  2.22222222,  3.33333333,  4.44444444,\n",
      "        5.55555556,  6.66666667,  7.77777778,  8.88888889, 10.        ]))\n",
      "10\n"
     ]
    },
    {
     "data": {
      "text/plain": "211"
     },
     "execution_count": 3,
     "metadata": {},
     "output_type": "execute_result"
    }
   ],
   "source": [
    "xmesh = np.linspace(0, 10, 10)\n",
    "ymesh = np.linspace(0, 10, 10)\n",
    "zmesh = np.linspace(0, 10, 10)\n",
    "msh = Mesh(xmesh, ymesh, zmesh)"
   ],
   "metadata": {
    "collapsed": false,
    "ExecuteTime": {
     "end_time": "2023-11-21T18:46:29.476257700Z",
     "start_time": "2023-11-21T18:46:29.424389600Z"
    }
   },
   "id": "577493f851721f8e"
  },
  {
   "cell_type": "code",
   "execution_count": 3,
   "outputs": [],
   "source": [],
   "metadata": {
    "collapsed": false,
    "ExecuteTime": {
     "end_time": "2023-11-21T18:46:29.477258300Z",
     "start_time": "2023-11-21T18:46:29.474333900Z"
    }
   },
   "id": "4d69a4aa9cd9644e"
  }
 ],
 "metadata": {
  "kernelspec": {
   "display_name": "Python 3",
   "language": "python",
   "name": "python3"
  },
  "language_info": {
   "codemirror_mode": {
    "name": "ipython",
    "version": 2
   },
   "file_extension": ".py",
   "mimetype": "text/x-python",
   "name": "python",
   "nbconvert_exporter": "python",
   "pygments_lexer": "ipython2",
   "version": "2.7.6"
  }
 },
 "nbformat": 4,
 "nbformat_minor": 5
}
