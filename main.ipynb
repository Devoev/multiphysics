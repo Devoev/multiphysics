{
 "cells": [
  {
   "cell_type": "code",
   "execution_count": null,
   "id": "initial_id",
   "metadata": {
    "collapsed": true,
    "is_executing": true
   },
   "outputs": [],
   "source": [
    "from dataclasses import replace\n",
    "\n",
    "import numpy as np\n",
    "\n",
    "from fit.matrices.const_mats import create_p2d_mat\n",
    "from fit.matrices.top_mats import create_top_mats\n",
    "from fit.mesh.box import Box, mesh_boxes\n",
    "from fit.mesh.mesh import Mesh\n",
    "from fit.plot.plot_field import plot_field\n",
    "from fit.plot.plot_pot import plot_pot\n",
    "from fit.solver.solve_poisson import solve_poisson\n",
    "\n",
    "%load_ext autoreload\n",
    "%autoreload 2"
   ]
  },
  {
   "cell_type": "code",
   "execution_count": null,
   "outputs": [],
   "source": [
    "## Generate mesh\n",
    "n = 50\n",
    "nz = 5\n",
    "xmesh = np.linspace(0, 1, n)\n",
    "ymesh = np.linspace(0, 1, n)\n",
    "zmesh = np.linspace(0, 1, nz)\n",
    "msh = Mesh(xmesh, ymesh, zmesh)"
   ],
   "metadata": {
    "collapsed": false,
    "is_executing": true
   },
   "id": "577493f851721f8e"
  },
  {
   "cell_type": "code",
   "execution_count": null,
   "outputs": [],
   "source": [
    "## Mesh boxes\n",
    "# Conductor\n",
    "sig = 58e6      # Conductivity\n",
    "lam = 401       # Thermal conductivity\n",
    "n_width = 10    # Conductor width\n",
    "\n",
    "y0_idx = (int(msh.ny / 2 - n_width), int(msh.ny / 2 + n_width))         # y idx range of thick conductor\n",
    "y1_idx = (int(msh.ny / 2 - n_width / 2), int(msh.ny / 2 + n_width / 2)) # y idx range of thin conductor\n",
    "\n",
    "box_sig_0 = Box(sig, (0, int(msh.nx / 2)), y0_idx, (0, msh.nz))\n",
    "box_sig_1 = Box(sig, (int(msh.nx / 2), msh.nx), y1_idx, (0, msh.nz))\n",
    "box_lam_0 = replace(box_sig_0, value=lam)\n",
    "box_lam_1 = replace(box_sig_1, value=lam)\n",
    "\n",
    "sig_arr = mesh_boxes(msh, [box_sig_0, box_sig_1], 1e-12)\n",
    "lam_arr = mesh_boxes(msh, [box_lam_0, box_lam_1], 0.026)\n",
    "m_sig = create_p2d_mat(msh, sig_arr)\n",
    "m_lam = create_p2d_mat(msh, lam_arr)\n",
    "\n",
    "# Air\n",
    "eps = 8.854e-12\n",
    "m_eps = create_p2d_mat(msh, eps)"
   ],
   "metadata": {
    "collapsed": false,
    "is_executing": true
   },
   "id": "2364731e6aeb2a51"
  },
  {
   "cell_type": "code",
   "execution_count": null,
   "outputs": [],
   "source": [
    "## Set boundary conditions\n",
    "V0 = 0\n",
    "V1 = 1\n",
    "\n",
    "box_bc_0 = Box(V0, (0, 1), y0_idx, (0, msh.nz))\n",
    "box_bc_1 = Box(V1, (n - 1, n), y1_idx, (0, msh.nz))\n",
    "bc = mesh_boxes(msh, [box_bc_0, box_bc_1], np.nan)"
   ],
   "metadata": {
    "collapsed": false,
    "is_executing": true
   },
   "id": "7d7c3c49b50fd2a0"
  },
  {
   "cell_type": "code",
   "execution_count": null,
   "outputs": [],
   "source": [
    "## Current excitation TODO: Update\n",
    "I0 = 1e7\n",
    "\n",
    "g,_,_ = create_top_mats(msh)\n",
    "i = np.zeros(3*msh.np)\n",
    "# idx = [msh.idx(0, int(n/2 + i), np.arange(nz)) + 0*msh.np for i in np.linspace(-10, 10)]\n",
    "# i[idx] = I0\n",
    "q = -g.T @ i\n",
    "# idx = [msh.idx(0, int(n/2 + i), np.arange(nz)) for i in np.linspace(-10, 10)]\n",
    "# idx = msh.idx(int(n/2), int(n/2), np.arange(nz))\n",
    "# q = np.zeros(msh.np)\n",
    "# q[idx] = I0"
   ],
   "metadata": {
    "collapsed": false,
    "is_executing": true
   },
   "id": "85e5f07b9acf8e18"
  },
  {
   "cell_type": "code",
   "execution_count": null,
   "outputs": [],
   "source": [
    "## Solve system\n",
    "phi = solve_poisson(msh, q, m_sig, bc)  # TODO: Use m_sig not m_eps"
   ],
   "metadata": {
    "collapsed": false,
    "is_executing": true
   },
   "id": "4d69a4aa9cd9644e"
  },
  {
   "cell_type": "code",
   "execution_count": null,
   "outputs": [],
   "source": [
    "## Plot phi\n",
    "plot_pot(msh, phi, nz=2, levels=n, cmap='rainbow', title='Electric potential $\\phi$ (V)')"
   ],
   "metadata": {
    "collapsed": false,
    "is_executing": true
   },
   "id": "119cc92d53fcd77a"
  },
  {
   "cell_type": "code",
   "execution_count": null,
   "outputs": [],
   "source": [
    "# Electrical field\n",
    "e = -g @ phi\n",
    "j = m_sig @ e\n",
    "plot_field(msh, j, nz=2, cmap='rainbow', title=r'Current density $\\mathbf{J}$ (V/m)')"
   ],
   "metadata": {
    "collapsed": false,
    "is_executing": true
   },
   "id": "cc763d41cb1f603a"
  },
  {
   "cell_type": "code",
   "execution_count": null,
   "outputs": [],
   "source": [
    "## Power calculation\n",
    "pe = e * j                          # Power on edge vector\n",
    "pv = 0.5*np.abs(g.T) @ pe           # Power on dual volume vector"
   ],
   "metadata": {
    "collapsed": false,
    "is_executing": true
   },
   "id": "8b00b0aec51d201c"
  },
  {
   "cell_type": "code",
   "execution_count": null,
   "outputs": [],
   "source": [
    "## Plot power\n",
    "plot_pot(msh, pv, nz=2, levels=n, title='Power loss $P$ (W)')"
   ],
   "metadata": {
    "collapsed": false,
    "is_executing": true
   },
   "id": "8afa5075715053ac"
  },
  {
   "cell_type": "code",
   "execution_count": null,
   "outputs": [],
   "source": [
    "## Solve thermal system\n",
    "bc = np.full(msh.np, np.nan)\n",
    "theta = solve_poisson(msh, -pv, m_lam, bc)"
   ],
   "metadata": {
    "collapsed": false,
    "is_executing": true
   },
   "id": "33e6b3002e5fd34d"
  },
  {
   "cell_type": "code",
   "execution_count": null,
   "outputs": [],
   "source": [
    "## Plot theta\n",
    "plot_pot(msh, theta, nz=2, levels=n, cmap='hot', title=r'Temperature difference $\\theta$ (K)')"
   ],
   "metadata": {
    "collapsed": false,
    "is_executing": true
   },
   "id": "1b583b1cb9c6357c"
  },
  {
   "cell_type": "code",
   "execution_count": null,
   "outputs": [],
   "source": [],
   "metadata": {
    "collapsed": false,
    "is_executing": true
   },
   "id": "da7116b7c1ca68f2"
  }
 ],
 "metadata": {
  "kernelspec": {
   "display_name": "Python 3",
   "language": "python",
   "name": "python3"
  },
  "language_info": {
   "codemirror_mode": {
    "name": "ipython",
    "version": 2
   },
   "file_extension": ".py",
   "mimetype": "text/x-python",
   "name": "python",
   "nbconvert_exporter": "python",
   "pygments_lexer": "ipython2",
   "version": "2.7.6"
  }
 },
 "nbformat": 4,
 "nbformat_minor": 5
}
